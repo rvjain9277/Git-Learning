{
 "cells": [
  {
   "cell_type": "markdown",
   "metadata": {},
   "source": [
    "# Excercise"
   ]
  },
  {
   "cell_type": "code",
   "execution_count": 2,
   "metadata": {},
   "outputs": [
    {
     "name": "stdout",
     "output_type": "stream",
     "text": [
      "The sum of the Emenents of [2.3, 3, 4, 5, 54, 3, 33, 4, 55, 5] = 168.3\n"
     ]
    }
   ],
   "source": [
    "#1 Python: Sum all the items in a list\n",
    "sum=0.0\n",
    "l1 = [2.3,3,4,5,54,3,33,4,55,5]\n",
    "for n in l1:\n",
    "    sum+=n\n",
    "\n",
    "print (f\"The sum of the Emenents of {l1} = {sum}\")"
   ]
  },
  {
   "cell_type": "code",
   "execution_count": 3,
   "metadata": {},
   "outputs": [
    {
     "name": "stdout",
     "output_type": "stream",
     "text": [
      "The sum of the Emenents of [2, 3, 3, 4, 5] = 360.0\n"
     ]
    }
   ],
   "source": [
    "#2 Python program to multiplies all the items in a list\n",
    "mul =1.0\n",
    "l1 = [2,3,3,4,5]\n",
    "for n in l1:\n",
    "    mul*=n\n",
    "\n",
    "print (f\"The sum of the Emenents of {l1} = {mul}\")"
   ]
  },
  {
   "cell_type": "code",
   "execution_count": 4,
   "metadata": {},
   "outputs": [
    {
     "name": "stdout",
     "output_type": "stream",
     "text": [
      "The maximum number from the list [-23, 4344, 24, 45, 33, 33, 66, 22, 552] is 4344\n"
     ]
    }
   ],
   "source": [
    "#3 Python program to get the largest number from a list.\n",
    "l1 = [-23,4344,24,45,33,33,66,22,552]\n",
    "max=l1[0]\n",
    "\n",
    "for n in l1:\n",
    "    if n>max:\n",
    "        max=n\n",
    "print(f\"The maximum number from the list {l1} is {max}\")"
   ]
  },
  {
   "cell_type": "code",
   "execution_count": 5,
   "metadata": {},
   "outputs": [
    {
     "name": "stdout",
     "output_type": "stream",
     "text": [
      "The maximum number from the list [-23, 4344, 24, 45, 33, 33, 66, 2, 22, 552] is -23\n"
     ]
    }
   ],
   "source": [
    "#4 Python program to get the smallest number from a list\n",
    "l1 = [-23,4344,24,45,33,33,66,2,22,552]\n",
    "min = l1[0]\n",
    "for n in l1:\n",
    "    if n<min:\n",
    "        min=n\n",
    "print(f\"The maximum number from the list {l1} is {min}\")"
   ]
  },
  {
   "cell_type": "code",
   "execution_count": 6,
   "metadata": {},
   "outputs": [
    {
     "name": "stdout",
     "output_type": "stream",
     "text": [
      "l1.length: 9\n",
      "l2.length: 0\n",
      "[1, 2, 3, 4, 4, 5, 6, 7, 3]\n",
      "[1, 2, 3, 4, 5, 6, 7]\n",
      "l1.length: 9\n",
      "l2.length: 7\n"
     ]
    }
   ],
   "source": [
    "#7 Write a Python program to remove duplicates from a list. \n",
    "l1=[1,2,3,4,4,5,6,7,3]\n",
    "l2=[]\n",
    "print(\"l1.length:\", len(l1))\n",
    "print(\"l2.length:\", len(l2))\n",
    "\n",
    "for n in l1:\n",
    "    if n not in l2:\n",
    "        l2.append(n)\n",
    "\n",
    "print(l1)\n",
    "print(l2)\n",
    "print(\"l1.length:\", len(l1))\n",
    "print(\"l2.length:\", len(l2))"
   ]
  },
  {
   "cell_type": "code",
   "execution_count": 7,
   "metadata": {},
   "outputs": [
    {
     "name": "stdout",
     "output_type": "stream",
     "text": [
      "The length of the List [23, 44, 55, 32, 44, 664, 533] is 7\n",
      "The length of the List [] is 0\n"
     ]
    }
   ],
   "source": [
    "#8 Write a Python program to check a list is empty or not.\n",
    "i=0\n",
    "length = 0\n",
    "l1=[23,44,55,32,44,664,533]\n",
    "length = len(l1)\n",
    "print(f\"The length of the List {l1} is {length}\")\n",
    "while i<length:\n",
    "    l1.pop()\n",
    "    i+=1\n",
    "length = len(l1)\n",
    "print(f\"The length of the List {l1} is {length}\")\n",
    "   "
   ]
  },
  {
   "cell_type": "code",
   "execution_count": 8,
   "metadata": {},
   "outputs": [
    {
     "name": "stdout",
     "output_type": "stream",
     "text": [
      "**** L1 and L2 are pointing to the same reference so poping the element from any of the l1 or l2 will effect both ****\n",
      "The List l1=[1, 2, 3, 4, 5, 6]\n",
      "The List l2=[1, 2, 3, 4, 5, 6]\n",
      "**********After Popup**********\n",
      "The List l1=[1, 2, 3, 4, 5]\n",
      "The List l2=[1, 2, 3, 4, 5]\n",
      "*** L3 and L4 are pointing to the different objects so poping the element from any of the l1 or l2 will not effect other ***\n",
      "The List l3=[7, 8, 9, 10, 11, 12]\n",
      "The List l4=[7, 8, 9, 10, 11, 12]\n",
      "**********After Popup**********\n",
      "The List l3=[7, 8, 9, 10, 11]\n",
      "The List l4=[7, 8, 9, 10, 11, 12]\n"
     ]
    }
   ],
   "source": [
    "#9. Write a Python program to clone or copy a list.\n",
    "l1=[1,2,3,4,5,6]\n",
    "l2=l1 # pointing to same reference\n",
    "l3=[7,8,9,10,11,12]\n",
    "l4=list(l3) # cloning the list\n",
    "str1=\" L1 and L2 are pointing to the same reference so poping the element from any of the l1 or l2 will effect both \"\n",
    "str2=\" L3 and L4 are pointing to the different objects so poping the element from any of the l1 or l2 will not effect other \"\n",
    "\n",
    "print(str1.center(len(str1)+8,\"*\"))\n",
    "print(f\"The List l1={l1}\\nThe List l2={l2}\")\n",
    "print(\"After Popup\".center(len(\"After Popup\")+20,\"*\"))\n",
    "l1.pop()\n",
    "print(f\"The List l1={l1}\\nThe List l2={l2}\")\n",
    "\n",
    "print(str2.center(len(str2)+6,\"*\"))\n",
    "print(f\"The List l3={l3}\\nThe List l4={l4}\")\n",
    "print(\"After Popup\".center(len(\"After Popup\")+20,\"*\"))\n",
    "\n",
    "l3.pop()\n",
    "print(f\"The List l3={l3}\\nThe List l4={l4}\")\n"
   ]
  },
  {
   "cell_type": "code",
   "execution_count": 9,
   "metadata": {},
   "outputs": [
    {
     "name": "stdout",
     "output_type": "stream",
     "text": [
      "\n",
      "aba is satisfying the condition\n",
      "1221 is satisfying the condition\n",
      "2342 is satisfying the condition\n",
      "Madom is satisfying the condition\n",
      "Ishi is satisfying the condition\n",
      "Malyalam is satisfying the condition\n",
      "\n",
      "There are total 6 numbers satisfying the condition\n"
     ]
    }
   ],
   "source": [
    "# 5 Python program to count the number of strings\n",
    "list1 =  ['abc', 'xyz', 'aba', '1221','2342','rahul','Madom',\"Ishi\",\"Malyalam\",\"aa\" ]\n",
    "count=0\n",
    "print()\n",
    "for str in list1:\n",
    "    if len(str)>2:\n",
    "        if(str[0].lower()==str[-1].lower()):\n",
    "            print(f\"{str} is satisfying the condition\")\n",
    "            count+=1\n",
    "print(f\"\\nThere are total {count} numbers satisfying the condition\")\n",
    "        "
   ]
  },
  {
   "cell_type": "code",
   "execution_count": 10,
   "metadata": {},
   "outputs": [
    {
     "name": "stdout",
     "output_type": "stream",
     "text": [
      "Enter the Sentence: '*',\n",
      "\n",
      "\n",
      "The following is the list having the word's length greater then 4\n",
      "String:\t'*',\n",
      "List:\t[\"'*',\"]\n"
     ]
    }
   ],
   "source": [
    "# 10 Find the list of words that are longer than n from a given list of words\n",
    "list1 = []\n",
    "str1 = input(\"Enter the Sentence: \")\n",
    "list2 = str1.split(\" \")\n",
    "for word in list2:\n",
    "    if len(word)>3:\n",
    "        list1.append(word)\n",
    "        \n",
    "print(f\"\\n\\nThe following is the list having the word's length greater then 4\\nString:\\t{str1}\\nList:\\t{list1}\")\n"
   ]
  },
  {
   "cell_type": "code",
   "execution_count": 11,
   "metadata": {},
   "outputs": [
    {
     "name": "stdout",
     "output_type": "stream",
     "text": [
      "['L']\n",
      "True\n"
     ]
    }
   ],
   "source": [
    "### 11. Write a Python function that takes two lists and returns True \n",
    "### if they have at least one common member.\n",
    "\n",
    "list1 = [\"A\",\"B\",\"C\",\"D\",\"E\",\"L\"]\n",
    "list2 = [\"S\",\"M\",\"U\",\"V\",\"J\",\"K\",\"L\"]\n",
    "list3 = list(set(list1).intersection(set(list2)))\n",
    "print(list3)\n",
    "\n",
    "if len(list3)>=1:\n",
    "    print(\"True\")\n",
    "else:\n",
    "    print(\"False\")"
   ]
  },
  {
   "cell_type": "code",
   "execution_count": 12,
   "metadata": {},
   "outputs": [
    {
     "name": "stdout",
     "output_type": "stream",
     "text": [
      "['indigo', 'blue', 'green', 'red']\n"
     ]
    }
   ],
   "source": [
    "# 12. Write a Python program to print a specified list after removing the 0th, 4th and 5th elements.\n",
    "color1 = [\"violet\",\"indigo\",\"blue\",\"green\",\"yellow\",\"orange\",\"red\"]#,\"I\",\"J\",\"K\",\"L\"]\n",
    "index = [0,4,5]\n",
    "color2 = []\n",
    "\n",
    "for i in range(len(color1)):\n",
    "    if i not in index:\n",
    "        color2.append(color1[i])\n",
    "print(color2)\n",
    "\n"
   ]
  },
  {
   "cell_type": "code",
   "execution_count": 13,
   "metadata": {},
   "outputs": [
    {
     "name": "stdout",
     "output_type": "stream",
     "text": [
      "[[['*', '*', '*', '*', '*', '*'], ['*', '*', '*', '*', '*', '*'], ['*', '*', '*', '*', '*', '*'], ['*', '*', '*', '*', '*', '*']], [['*', '*', '*', '*', '*', '*'], ['*', '*', '*', '*', '*', '*'], ['*', '*', '*', '*', '*', '*'], ['*', '*', '*', '*', '*', '*']], [['*', '*', '*', '*', '*', '*'], ['*', '*', '*', '*', '*', '*'], ['*', '*', '*', '*', '*', '*'], ['*', '*', '*', '*', '*', '*']]]\n"
     ]
    }
   ],
   "source": [
    "# 13. Write a Python program to generate a 3*4*6 3D array whose each element is *.\n",
    "dim1 = ['*']\n",
    "array = [[dim1*6]*4]*3\n",
    "print(array)"
   ]
  },
  {
   "cell_type": "code",
   "execution_count": 57,
   "metadata": {},
   "outputs": [
    {
     "name": "stdout",
     "output_type": "stream",
     "text": [
      "[1, 23, 5, 7, 9, 11, 45, 77, 33]\n"
     ]
    }
   ],
   "source": [
    "# 14. Write a Python program to print the numbers of a specified list after removing even numbers from it.\n",
    "list1=[1,2,23,4,5,6,7,8,9,14,11,45,66,77,22,33]\n",
    "list2=[]\n",
    "list3=[]\n",
    "for item in list1:\n",
    "    if item%2==1:\n",
    "        list2.append(item)\n",
    "    else:\n",
    "        list3.append(item)\n",
    "list1 = list2\n",
    "print (list1)\n"
   ]
  },
  {
   "cell_type": "code",
   "execution_count": 59,
   "metadata": {},
   "outputs": [
    {
     "name": "stdout",
     "output_type": "stream",
     "text": [
      "[7, 6, 5, 4, 23, 2, 1]\n"
     ]
    }
   ],
   "source": [
    "# 15. Write a Python program to shuffle and print a specified list.\n",
    "list1=[1,2,23,4,5,6,7]\n",
    "list2=[]\n",
    "for item in list1:\n",
    "    list2.insert(0,item)\n",
    "    \n",
    "print(list2)\n",
    "        \n",
    "    "
   ]
  },
  {
   "cell_type": "code",
   "execution_count": 77,
   "metadata": {},
   "outputs": [
    {
     "name": "stdout",
     "output_type": "stream",
     "text": [
      "24\n",
      "25\n",
      "26\n",
      "27\n",
      "28\n",
      "29\n",
      "[49, 64, 81, 121, 144, 169]\n"
     ]
    }
   ],
   "source": [
    "# 16. Write a Python program to generate and print a list of first and last 5 elements where the values are square of numbers between 1 and 30 (both included).\n",
    "list1=[1,2,3,4,5,6,7,8,9,1,2,3,4,5,6,7,8,9,1,2,3,4,5,6,7,8,9,11,12,13]\n",
    "list2=[]\n",
    "for i in range(len(list1)):\n",
    "    if i<=5 | i>26:\n",
    "        print(i)\n",
    "        list2.append(list1[i]**2)\n",
    "    \n",
    "print(list2)   \n"
   ]
  },
  {
   "cell_type": "code",
   "execution_count": null,
   "metadata": {},
   "outputs": [],
   "source": []
  },
  {
   "cell_type": "code",
   "execution_count": null,
   "metadata": {},
   "outputs": [],
   "source": []
  },
  {
   "cell_type": "code",
   "execution_count": null,
   "metadata": {},
   "outputs": [],
   "source": []
  },
  {
   "cell_type": "code",
   "execution_count": null,
   "metadata": {},
   "outputs": [],
   "source": []
  }
 ],
 "metadata": {
  "kernelspec": {
   "display_name": "Python 3",
   "language": "python",
   "name": "python3"
  },
  "language_info": {
   "codemirror_mode": {
    "name": "ipython",
    "version": 3
   },
   "file_extension": ".py",
   "mimetype": "text/x-python",
   "name": "python",
   "nbconvert_exporter": "python",
   "pygments_lexer": "ipython3",
   "version": "3.7.1"
  }
 },
 "nbformat": 4,
 "nbformat_minor": 2
}
