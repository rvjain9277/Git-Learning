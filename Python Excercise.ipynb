{
 "cells": [
  {
   "cell_type": "markdown",
   "metadata": {},
   "source": [
    "# Excercise"
   ]
  },
  {
   "cell_type": "code",
   "execution_count": 1,
   "metadata": {},
   "outputs": [
    {
     "name": "stdout",
     "output_type": "stream",
     "text": [
      "The sum of the Emenents of [2.3, 3, 4, 5, 54, 3, 33, 4, 55, 5] = 168.3\n"
     ]
    }
   ],
   "source": [
    "#1 Python: Sum all the items in a list\n",
    "sum=0.0\n",
    "l1 = [2.3,3,4,5,54,3,33,4,55,5]\n",
    "for n in l1:\n",
    "    sum+=n\n",
    "\n",
    "print (f\"The sum of the Emenents of {l1} = {sum}\")"
   ]
  },
  {
   "cell_type": "code",
   "execution_count": 2,
   "metadata": {},
   "outputs": [
    {
     "name": "stdout",
     "output_type": "stream",
     "text": [
      "The sum of the Emenents of [2, 3, 3, 4, 5] = 360.0\n"
     ]
    }
   ],
   "source": [
    "#2 Python program to multiplies all the items in a list\n",
    "mul =1.0\n",
    "l1 = [2,3,3,4,5]\n",
    "for n in l1:\n",
    "    mul*=n\n",
    "\n",
    "print (f\"The sum of the Emenents of {l1} = {mul}\")"
   ]
  },
  {
   "cell_type": "code",
   "execution_count": 3,
   "metadata": {},
   "outputs": [
    {
     "name": "stdout",
     "output_type": "stream",
     "text": [
      "The maximum number from the list [-23, 4344, 24, 45, 33, 33, 66, 22, 552] is 4344\n"
     ]
    }
   ],
   "source": [
    "#3 Python program to get the largest number from a list.\n",
    "l1 = [-23,4344,24,45,33,33,66,22,552]\n",
    "max=l1[0]\n",
    "\n",
    "for n in l1:\n",
    "    if n>max:\n",
    "        max=n\n",
    "print(f\"The maximum number from the list {l1} is {max}\")"
   ]
  },
  {
   "cell_type": "code",
   "execution_count": 4,
   "metadata": {},
   "outputs": [
    {
     "name": "stdout",
     "output_type": "stream",
     "text": [
      "The maximum number from the list [-23, 4344, 24, 45, 33, 33, 66, 2, 22, 552] is -23\n"
     ]
    }
   ],
   "source": [
    "#4 Python program to get the smallest number from a list\n",
    "l1 = [-23,4344,24,45,33,33,66,2,22,552]\n",
    "min = l1[0]\n",
    "for n in l1:\n",
    "    if n<min:\n",
    "        min=n\n",
    "print(f\"The maximum number from the list {l1} is {min}\")"
   ]
  },
  {
   "cell_type": "code",
   "execution_count": 5,
   "metadata": {},
   "outputs": [
    {
     "name": "stdout",
     "output_type": "stream",
     "text": [
      "l1.length: 9\n",
      "l2.length: 0\n",
      "[1, 2, 3, 4, 4, 5, 6, 7, 3]\n",
      "[1, 2, 3, 4, 5, 6, 7]\n",
      "l1.length: 9\n",
      "l2.length: 7\n"
     ]
    }
   ],
   "source": [
    "#7 Write a Python program to remove duplicates from a list. \n",
    "l1=[1,2,3,4,4,5,6,7,3]\n",
    "l2=[]\n",
    "print(\"l1.length:\", len(l1))\n",
    "print(\"l2.length:\", len(l2))\n",
    "\n",
    "for n in l1:\n",
    "    if n not in l2:\n",
    "        l2.append(n)\n",
    "\n",
    "print(l1)\n",
    "print(l2)\n",
    "print(\"l1.length:\", len(l1))\n",
    "print(\"l2.length:\", len(l2))"
   ]
  },
  {
   "cell_type": "code",
   "execution_count": 6,
   "metadata": {},
   "outputs": [
    {
     "name": "stdout",
     "output_type": "stream",
     "text": [
      "The length of the List [23, 44, 55, 32, 44, 664, 533] is 7\n",
      "The length of the List [] is 0\n"
     ]
    }
   ],
   "source": [
    "#8 Write a Python program to check a list is empty or not.\n",
    "i=0\n",
    "length = 0\n",
    "l1=[23,44,55,32,44,664,533]\n",
    "length = len(l1)\n",
    "print(f\"The length of the List {l1} is {length}\")\n",
    "while i<length:\n",
    "    l1.pop()\n",
    "    i+=1\n",
    "length = len(l1)\n",
    "print(f\"The length of the List {l1} is {length}\")\n",
    "   "
   ]
  },
  {
   "cell_type": "code",
   "execution_count": 7,
   "metadata": {},
   "outputs": [
    {
     "name": "stdout",
     "output_type": "stream",
     "text": [
      "**** L1 and L2 are pointing to the same reference so poping the element from any of the l1 or l2 will effect both ****\n",
      "The List l1=[1, 2, 3, 4, 5, 6]\n",
      "The List l2=[1, 2, 3, 4, 5, 6]\n",
      "**********After Popup**********\n",
      "The List l1=[1, 2, 3, 4, 5]\n",
      "The List l2=[1, 2, 3, 4, 5]\n",
      "*** L3 and L4 are pointing to the different objects so poping the element from any of the l1 or l2 will not effect other ***\n",
      "The List l3=[7, 8, 9, 10, 11, 12]\n",
      "The List l4=[7, 8, 9, 10, 11, 12]\n",
      "**********After Popup**********\n",
      "The List l3=[7, 8, 9, 10, 11]\n",
      "The List l4=[7, 8, 9, 10, 11, 12]\n"
     ]
    }
   ],
   "source": [
    "#9. Write a Python program to clone or copy a list.\n",
    "l1=[1,2,3,4,5,6]\n",
    "l2=l1 # pointing to same reference\n",
    "l3=[7,8,9,10,11,12]\n",
    "l4=list(l3) # cloning the list\n",
    "str1=\" L1 and L2 are pointing to the same reference so poping the element from any of the l1 or l2 will effect both \"\n",
    "str2=\" L3 and L4 are pointing to the different objects so poping the element from any of the l1 or l2 will not effect other \"\n",
    "\n",
    "print(str1.center(len(str1)+8,\"*\"))\n",
    "print(f\"The List l1={l1}\\nThe List l2={l2}\")\n",
    "print(\"After Popup\".center(len(\"After Popup\")+20,\"*\"))\n",
    "l1.pop()\n",
    "print(f\"The List l1={l1}\\nThe List l2={l2}\")\n",
    "\n",
    "print(str2.center(len(str2)+6,\"*\"))\n",
    "print(f\"The List l3={l3}\\nThe List l4={l4}\")\n",
    "print(\"After Popup\".center(len(\"After Popup\")+20,\"*\"))\n",
    "\n",
    "l3.pop()\n",
    "print(f\"The List l3={l3}\\nThe List l4={l4}\")\n"
   ]
  },
  {
   "cell_type": "code",
   "execution_count": 8,
   "metadata": {},
   "outputs": [
    {
     "name": "stdout",
     "output_type": "stream",
     "text": [
      "\n",
      "aba is satisfying the condition\n",
      "1221 is satisfying the condition\n",
      "2342 is satisfying the condition\n",
      "Madom is satisfying the condition\n",
      "Ishi is satisfying the condition\n",
      "Malyalam is satisfying the condition\n",
      "\n",
      "There are total 6 numbers satisfying the condition\n"
     ]
    }
   ],
   "source": [
    "# 5 Python program to count the number of strings\n",
    "list1 =  ['abc', 'xyz', 'aba', '1221','2342','rahul','Madom',\"Ishi\",\"Malyalam\",\"aa\" ]\n",
    "count=0\n",
    "print()\n",
    "for str in list1:\n",
    "    if len(str)>2:\n",
    "        if(str[0].lower()==str[-1].lower()):\n",
    "            print(f\"{str} is satisfying the condition\")\n",
    "            count+=1\n",
    "print(f\"\\nThere are total {count} numbers satisfying the condition\")\n",
    "        "
   ]
  },
  {
   "cell_type": "code",
   "execution_count": 9,
   "metadata": {},
   "outputs": [
    {
     "name": "stdout",
     "output_type": "stream",
     "text": [
      "Enter the Sentence: The following is the list having the word's length greater then 4\n",
      "\n",
      "\n",
      "The following is the list having the word's length greater then 4\n",
      "String:\tThe following is the list having the word's length greater then 4\n",
      "List:\t['following', 'list', 'having', \"word's\", 'length', 'greater', 'then']\n"
     ]
    }
   ],
   "source": [
    "# 10 Find the list of words that are longer than n from a given list of words\n",
    "list1 = []\n",
    "str1 = input(\"Enter the Sentence: \")\n",
    "list2 = str1.split(\" \")\n",
    "for word in list2:\n",
    "    if len(word)>3:\n",
    "        list1.append(word)\n",
    "        \n",
    "print(f\"\\n\\nThe following is the list having the word's length greater then 4\\nString:\\t{str1}\\nList:\\t{list1}\")\n"
   ]
  },
  {
   "cell_type": "code",
   "execution_count": 10,
   "metadata": {},
   "outputs": [
    {
     "name": "stdout",
     "output_type": "stream",
     "text": [
      "['L']\n",
      "True\n"
     ]
    }
   ],
   "source": [
    "### 11. Write a Python function that takes two lists and returns True \n",
    "### if they have at least one common member.\n",
    "\n",
    "list1 = [\"A\",\"B\",\"C\",\"D\",\"E\",\"L\"]\n",
    "list2 = [\"S\",\"M\",\"U\",\"V\",\"J\",\"K\",\"L\"]\n",
    "list3 = list(set(list1).intersection(set(list2)))\n",
    "print(list3)\n",
    "\n",
    "if len(list3)>=1:\n",
    "    print(\"True\")\n",
    "else:\n",
    "    print(\"False\")"
   ]
  },
  {
   "cell_type": "code",
   "execution_count": 11,
   "metadata": {},
   "outputs": [
    {
     "name": "stdout",
     "output_type": "stream",
     "text": [
      "['indigo', 'blue', 'green', 'red']\n"
     ]
    }
   ],
   "source": [
    "# 12. Write a Python program to print a specified list after removing the 0th, 4th and 5th elements.\n",
    "color1 = [\"violet\",\"indigo\",\"blue\",\"green\",\"yellow\",\"orange\",\"red\"]#,\"I\",\"J\",\"K\",\"L\"]\n",
    "index = [0,4,5]\n",
    "color2 = []\n",
    "\n",
    "for i in range(len(color1)):\n",
    "    if i not in index:\n",
    "        color2.append(color1[i])\n",
    "print(color2)\n",
    "\n"
   ]
  },
  {
   "cell_type": "code",
   "execution_count": 12,
   "metadata": {},
   "outputs": [
    {
     "name": "stdout",
     "output_type": "stream",
     "text": [
      "[[['*', '*', '*', '*', '*', '*'], ['*', '*', '*', '*', '*', '*'], ['*', '*', '*', '*', '*', '*'], ['*', '*', '*', '*', '*', '*']], [['*', '*', '*', '*', '*', '*'], ['*', '*', '*', '*', '*', '*'], ['*', '*', '*', '*', '*', '*'], ['*', '*', '*', '*', '*', '*']], [['*', '*', '*', '*', '*', '*'], ['*', '*', '*', '*', '*', '*'], ['*', '*', '*', '*', '*', '*'], ['*', '*', '*', '*', '*', '*']]]\n"
     ]
    }
   ],
   "source": [
    "# 13. Write a Python program to generate a 3*4*6 3D array whose each element is *.\n",
    "dim1 = ['*']\n",
    "array = [[dim1*6]*4]*3\n",
    "print(array)"
   ]
  },
  {
   "cell_type": "code",
   "execution_count": 13,
   "metadata": {},
   "outputs": [
    {
     "name": "stdout",
     "output_type": "stream",
     "text": [
      "[1, 23, 5, 7, 9, 11, 45, 77, 33]\n"
     ]
    }
   ],
   "source": [
    "# 14. Write a Python program to print the numbers of a specified list after removing even numbers from it.\n",
    "list1=[1,2,23,4,5,6,7,8,9,14,11,45,66,77,22,33]\n",
    "list2=[]\n",
    "list3=[]\n",
    "for item in list1:\n",
    "    if item%2==1:\n",
    "        list2.append(item)\n",
    "    else:\n",
    "        list3.append(item)\n",
    "list1 = list2\n",
    "print (list1)\n"
   ]
  },
  {
   "cell_type": "code",
   "execution_count": 14,
   "metadata": {},
   "outputs": [
    {
     "name": "stdout",
     "output_type": "stream",
     "text": [
      "[7, 6, 5, 4, 23, 2, 1]\n"
     ]
    }
   ],
   "source": [
    "# 15. Write a Python program to shuffle and print a specified list.\n",
    "list1=[1,2,23,4,5,6,7]\n",
    "list2=[]\n",
    "for item in list1:\n",
    "    list2.insert(0,item)\n",
    "    \n",
    "print(list2)\n",
    "        \n",
    "    "
   ]
  },
  {
   "cell_type": "code",
   "execution_count": 15,
   "metadata": {},
   "outputs": [
    {
     "name": "stdout",
     "output_type": "stream",
     "text": [
      "[4, 9, 16, 25, 36, 25, 36, 49, 64, 81]\n"
     ]
    }
   ],
   "source": [
    "# 16. Write a Python program to generate and print a list of first and last 5 elements where the values are square of numbers between 1 and 30 (both included).\n",
    "list1=[2,3,4,5,6,7,8,9,8,7,6,5,4,3,2,1,2,3,4,5,6,7,8,9]\n",
    "list2=[]\n",
    "for i in range(len(list1)):\n",
    "    \n",
    "    if i<5: \n",
    "        list2.append(list1[i]**2)\n",
    "    if i>=len(list1)-5:\n",
    "        list2.append(list1[i]**2)\n",
    "print(list2)\n",
    "        \n",
    "\n"
   ]
  },
  {
   "cell_type": "code",
   "execution_count": 16,
   "metadata": {},
   "outputs": [
    {
     "name": "stdout",
     "output_type": "stream",
     "text": [
      "Twinkle, twinkle, little star, \n",
      "\tHow I wonder what you are! \n",
      "Up above the world so high, \n",
      "\tLike a diamond in the sky. \n",
      "Twinkle, twinkle, little star, \n",
      "\tHow I wonder what you are\n"
     ]
    }
   ],
   "source": [
    "# 1. Write a Python program to print the following string in a specific format (see the output)\n",
    "str1=\"Twinkle, twinkle, little star, \\n\\tHow I wonder what you are! \\nUp above the world so high, \\n\\tLike a diamond in the sky. \\nTwinkle, twinkle, little star, \\n\\tHow I wonder what you are\" \n",
    "print(str1)"
   ]
  },
  {
   "cell_type": "code",
   "execution_count": 17,
   "metadata": {},
   "outputs": [
    {
     "name": "stdout",
     "output_type": "stream",
     "text": [
      "2019-04-05 18:59:29.988774\n"
     ]
    }
   ],
   "source": [
    "# 3. Write a Python program to display the current date and time.\n",
    "import datetime\n",
    "print(datetime.datetime.now())"
   ]
  },
  {
   "cell_type": "code",
   "execution_count": 18,
   "metadata": {},
   "outputs": [
    {
     "name": "stdout",
     "output_type": "stream",
     "text": [
      "Enter the comma saparated data:The following is the list having the word's length greater then 4\n",
      "List:\t[\"The following is the list having the word's length greater then 4\"]\n",
      "Tuple:\t(\"The following is the list having the word's length greater then 4\",)\n"
     ]
    }
   ],
   "source": [
    "str = input(\"Enter the comma saparated data:\").split(\",\")\n",
    "l1 = list(str)\n",
    "t1 = tuple(str)\n",
    "print(f\"List:\\t{l1}\\nTuple:\\t{t1}\")\n",
    "\n"
   ]
  },
  {
   "cell_type": "code",
   "execution_count": 19,
   "metadata": {},
   "outputs": [
    {
     "name": "stdout",
     "output_type": "stream",
     "text": [
      "Enter the file name saparated by .The following is the list having the word's length greater then 4\n"
     ]
    },
    {
     "ename": "IndexError",
     "evalue": "list index out of range",
     "output_type": "error",
     "traceback": [
      "\u001b[1;31m---------------------------------------------------------------------------\u001b[0m",
      "\u001b[1;31mIndexError\u001b[0m                                Traceback (most recent call last)",
      "\u001b[1;32m<ipython-input-19-01f691ebf8b2>\u001b[0m in \u001b[0;36m<module>\u001b[1;34m\u001b[0m\n\u001b[0;32m      1\u001b[0m \u001b[0mstr\u001b[0m \u001b[1;33m=\u001b[0m \u001b[0minput\u001b[0m\u001b[1;33m(\u001b[0m\u001b[1;34m\"Enter the file name saparated by .\"\u001b[0m\u001b[1;33m)\u001b[0m\u001b[1;33m.\u001b[0m\u001b[0msplit\u001b[0m\u001b[1;33m(\u001b[0m\u001b[1;34m\".\"\u001b[0m\u001b[1;33m)\u001b[0m\u001b[1;33m\u001b[0m\u001b[1;33m\u001b[0m\u001b[0m\n\u001b[1;32m----> 2\u001b[1;33m \u001b[0mprint\u001b[0m\u001b[1;33m(\u001b[0m\u001b[0mstr\u001b[0m\u001b[1;33m[\u001b[0m\u001b[1;36m1\u001b[0m\u001b[1;33m]\u001b[0m\u001b[1;33m)\u001b[0m\u001b[1;33m\u001b[0m\u001b[1;33m\u001b[0m\u001b[0m\n\u001b[0m",
      "\u001b[1;31mIndexError\u001b[0m: list index out of range"
     ]
    }
   ],
   "source": [
    "str = input(\"Enter the file name saparated by .\").split(\".\")\n",
    "print(str[1])"
   ]
  },
  {
   "cell_type": "code",
   "execution_count": 20,
   "metadata": {},
   "outputs": [
    {
     "name": "stdout",
     "output_type": "stream",
     "text": [
      "a e\n"
     ]
    }
   ],
   "source": [
    "l1=['a','b','c','d','e']\n",
    "print(l1[0],l1[-1])"
   ]
  },
  {
   "cell_type": "code",
   "execution_count": 21,
   "metadata": {},
   "outputs": [
    {
     "name": "stdout",
     "output_type": "stream",
     "text": [
      "12/12/2019\n"
     ]
    }
   ],
   "source": [
    "exam_date=\"12-12-2019\"\n",
    "formatted_date= exam_date.replace('-','/')\n",
    "print(formatted_date)"
   ]
  },
  {
   "cell_type": "code",
   "execution_count": null,
   "metadata": {},
   "outputs": [],
   "source": [
    "n = input(\"enter a number:\")\n",
    "n1 = n+n\n",
    "n2 = n+n+n\n",
    "sum=int(n)+int(n1)+int(n2)\n",
    "print(sum)"
   ]
  },
  {
   "cell_type": "code",
   "execution_count": null,
   "metadata": {},
   "outputs": [],
   "source": [
    "print(bool.__doc__)"
   ]
  },
  {
   "cell_type": "code",
   "execution_count": null,
   "metadata": {},
   "outputs": [],
   "source": [
    "import calendar\n",
    "y = int(input(\"Input the year : \"))\n",
    "m = int(input(\"Input the month : \"))\n",
    "print(calendar.month(y, m))"
   ]
  },
  {
   "cell_type": "code",
   "execution_count": null,
   "metadata": {},
   "outputs": [],
   "source": [
    "str1=input(\"Enter the String:\")\n",
    "cnt=0\n",
    "for char in str1:\n",
    "    cnt+=1\n",
    "print(f\"Length of the String \\\"{str1}\\\" is {cnt} \")"
   ]
  },
  {
   "cell_type": "code",
   "execution_count": null,
   "metadata": {},
   "outputs": [],
   "source": [
    "str1=input(\"Enter the String:\")\n",
    "d1={}\n",
    "for char in str1:\n",
    "    cnt=str1.count(char)\n",
    "    d1[char]=cnt\n",
    "for a in sorted(d1):\n",
    "    print(f\"{a}:\\t{d1[a]}\")"
   ]
  },
  {
   "cell_type": "code",
   "execution_count": null,
   "metadata": {},
   "outputs": [],
   "source": [
    "# 79. Write a Python program to find smallest and largest word in a given string.\n",
    "sentance = input(\"Enter the Sentance:\").split(\" \")\n",
    "min_word=\"     \"\n",
    "max_word=\"\"\n",
    "for word in sentance:\n",
    "    print(word+\"**\")\n",
    "    if len(word)>len(max_word):\n",
    "        max_word=word\n",
    "for word in sentance:\n",
    "    if len(word)<len(min_word):\n",
    "        min_word=word\n",
    "print(\"Smallest Word is :\",min_word)\n",
    "print(\"Largest word is :\",max_word)\n",
    "        \n"
   ]
  },
  {
   "cell_type": "code",
   "execution_count": null,
   "metadata": {},
   "outputs": [],
   "source": [
    "sentance=input(\"Enter a Sentance:\")\n",
    "print(sentance.replace(\" \",''))"
   ]
  },
  {
   "cell_type": "code",
   "execution_count": null,
   "metadata": {},
   "outputs": [],
   "source": [
    "sentance=input(\"Enter a Sentance:\")\n",
    "n = int(input(\"Enter the number of Characters:\"))\n",
    "for i in range(n):\n",
    "    print(sentance[i].upper() ,end='')\n",
    "print(sentance[n:])\n",
    "    "
   ]
  },
  {
   "cell_type": "code",
   "execution_count": 39,
   "metadata": {},
   "outputs": [
    {
     "name": "stdout",
     "output_type": "stream",
     "text": [
      "ecnatneS\n"
     ]
    }
   ],
   "source": [
    "print(\"Sentance\"[ : : -1])"
   ]
  },
  {
   "cell_type": "code",
   "execution_count": 40,
   "metadata": {},
   "outputs": [
    {
     "name": "stdout",
     "output_type": "stream",
     "text": [
      "720\n"
     ]
    }
   ],
   "source": [
    "def fact(n):\n",
    "    if n==1:\n",
    "        return n\n",
    "    else:\n",
    "        return n*fact(n-1)\n",
    "    \n",
    "print(fact(6))\n",
    "        "
   ]
  },
  {
   "cell_type": "code",
   "execution_count": null,
   "metadata": {},
   "outputs": [],
   "source": []
  },
  {
   "cell_type": "code",
   "execution_count": 22,
   "metadata": {},
   "outputs": [
    {
     "name": "stdout",
     "output_type": "stream",
     "text": [
      "Enter a String:jkj jlkd jlsja djlasd ksdk ks;d ;skd; kas;d ;kas;d k;askd a;sd ;askd\n",
      "jkj jlkd jlsja djlasd ksdk ks;d ;skd;\n",
      "kas;d ;kas;d k;askd a;sd ;askd\n"
     ]
    }
   ],
   "source": [
    "import textwrap\n",
    "sentance = input(\"Enter a String:\")\n",
    "print(textwrap.fill(sentance,width=40))"
   ]
  },
  {
   "cell_type": "code",
   "execution_count": 46,
   "metadata": {},
   "outputs": [
    {
     "name": "stdout",
     "output_type": "stream",
     "text": [
      "{0, 1, 2, 3}\n",
      "{9, 6}\n"
     ]
    }
   ],
   "source": [
    "# 19. Write a Python program to get the difference between the two lists.\n",
    "l1=[0,1,2,3,3,4,5]\n",
    "l2=[4,5,6,9]\n",
    "print(set(l1).difference(set(l2)))\n",
    "print(set(l2).difference(set(l1)))\n"
   ]
  },
  {
   "cell_type": "code",
   "execution_count": 51,
   "metadata": {},
   "outputs": [
    {
     "name": "stdout",
     "output_type": "stream",
     "text": [
      "Enter the Number:2\n",
      "The index of the 2 is 1\n"
     ]
    }
   ],
   "source": [
    "# 20. Write a Python program access the index of a list\n",
    "l1 = [1,2,3,4,5,6,8,9]\n",
    "n=int(input(\"Enter the Number:\"))\n",
    "if n not in l1:\n",
    "    print(f\"{n} is not in list {l1}\")\n",
    "for i in range(len(l1)):\n",
    "    if n == l1[i]:\n",
    "        print(f\"The index of the {n} is {i}\")\n",
    "    "
   ]
  },
  {
   "cell_type": "code",
   "execution_count": 54,
   "metadata": {},
   "outputs": [
    {
     "name": "stdout",
     "output_type": "stream",
     "text": [
      "RAHUL\n"
     ]
    }
   ],
   "source": [
    "# 21. Write a Python program to convert a list of characters into a string.\n",
    "l1=['R','A','H','U','L']\n",
    "str1=\"\"\n",
    "for i in l1:\n",
    "    str1=str1+i\n",
    "print(str1)"
   ]
  },
  {
   "cell_type": "code",
   "execution_count": 79,
   "metadata": {},
   "outputs": [
    {
     "name": "stdout",
     "output_type": "stream",
     "text": [
      "Enter the number:4\n",
      "Index 3 is having the desired number (4)\n"
     ]
    }
   ],
   "source": [
    "# 22. Write a Python program to find the index of an item in a specified list. \n",
    "l1=[1,2,3,4,5,6,7,88]\n",
    "n = int(input(\"Enter the number:\"))\n",
    "for i in range(len(l1)):\n",
    "    if n == l1[i]:\n",
    "        print(f\"Index {i} is having the desired number ({l1[i]})\")\n",
    "    "
   ]
  },
  {
   "cell_type": "code",
   "execution_count": 102,
   "metadata": {},
   "outputs": [
    {
     "name": "stdout",
     "output_type": "stream",
     "text": [
      "List l1 (Shallow List) : \t[[1, 2, 3], [4, 5], ['A', 'B', 'C'], [34], [2, 3, 6]]\n",
      "List l2 (Flatten List) : \t[1, 2, 3, 4, 5, 'A', 'B', 'C', 34, 2, 3, 6]\n",
      "Set s1 : \t\t\t{1, 2, 3, 4, 5, 'B', 34, 6, 'A', 'C'}\n"
     ]
    }
   ],
   "source": [
    "# 23. Write a Python program to flatten a shallow list.\n",
    "\n",
    "l1=[[1,2,3],[4,5],['A','B','C'],[34],[2,3,6]]\n",
    "l2=[]\n",
    "s1=set()\n",
    "for i in l1:\n",
    "    for j in i:\n",
    "        l2.append(j)\n",
    "        s1.add(j)\n",
    "print(f\"List l1 (Shallow List) : \\t{l1}\")\n",
    "print(f\"List l2 (Flatten List) : \\t{l2}\")\n",
    "print(f\"Set s1 : \\t\\t\\t{s1}\")\n",
    "        "
   ]
  },
  {
   "cell_type": "code",
   "execution_count": 104,
   "metadata": {},
   "outputs": [
    {
     "name": "stdout",
     "output_type": "stream",
     "text": [
      "[1, 2, 3, 4, 5, 6, 7, 8, 9]\n"
     ]
    }
   ],
   "source": [
    "# 24. Write a Python program to append a list to the second list.\n",
    "l1 = [1,2,3,4]\n",
    "l2 = [5,6,7,8,9]\n",
    "l3 = l1+l2\n",
    "print(l3)"
   ]
  },
  {
   "cell_type": "code",
   "execution_count": 129,
   "metadata": {},
   "outputs": [
    {
     "name": "stdout",
     "output_type": "stream",
     "text": [
      "[3, 7, 13, 22, 24, 25, 36]\n",
      "Second minimum is 7\n"
     ]
    }
   ],
   "source": [
    "# 27. Write a Python program to find the second smallest number in a list. \n",
    "\n",
    "l1=[25,24,36,13,7,3,22]\n",
    "l2=sorted(l1)\n",
    "print(l2)\n",
    "print(f\"Second Smallest number is {l2[1]}\")"
   ]
  },
  {
   "cell_type": "code",
   "execution_count": 131,
   "metadata": {},
   "outputs": [
    {
     "name": "stdout",
     "output_type": "stream",
     "text": [
      "[36, 25, 24, 22, 13, 7, 3]\n",
      "Second Largest number is: 25\n"
     ]
    }
   ],
   "source": [
    "# 28. Write a Python program to find the second largest number in a list.\n",
    "l1=[25,24,36,13,7,3,22]\n",
    "l2=sorted(l1,reverse=True)\n",
    "print(l2)\n",
    "print(f\"Second Largest number is: {l2[1]}\")"
   ]
  },
  {
   "cell_type": "code",
   "execution_count": 134,
   "metadata": {},
   "outputs": [
    {
     "name": "stdout",
     "output_type": "stream",
     "text": [
      "[1, 2, 3, 4, 5, 7]\n"
     ]
    }
   ],
   "source": [
    "# 29. Write a Python program to get unique values from a list.\n",
    "l1=[1,2,3,4,5,5,4,3,2,7,3,4,5]\n",
    "for i in l1:\n",
    "    l2=set(l1)\n",
    "l2=list(l2)\n",
    "print(l2)"
   ]
  },
  {
   "cell_type": "code",
   "execution_count": 149,
   "metadata": {},
   "outputs": [
    {
     "name": "stdout",
     "output_type": "stream",
     "text": [
      "{'A': 4, 'D': 1, 'C': 4, 'M': 2, 'B': 1, 'c': 1, 'a': 1}\n",
      "dict_keys(['A', 'D', 'C', 'M', 'B', 'c', 'a'])\n",
      "dict_values([4, 1, 4, 2, 1, 1, 1])\n"
     ]
    }
   ],
   "source": [
    "# 30. Write a Python program to get the frequency of the elements in a list.\n",
    "l1=['A','D','C','C','M','A','M','B','A','C','C','c','A','a']\n",
    "d1={}\n",
    "for i in l1:\n",
    "    n=l1.count(i)\n",
    "    d1[i]=n\n",
    "l2=list(d1)\n",
    "print(d1)\n",
    "print(d1.keys())\n",
    "print(d1.values())"
   ]
  }
 ],
 "metadata": {
  "kernelspec": {
   "display_name": "Python 3",
   "language": "python",
   "name": "python3"
  },
  "language_info": {
   "codemirror_mode": {
    "name": "ipython",
    "version": 3
   },
   "file_extension": ".py",
   "mimetype": "text/x-python",
   "name": "python",
   "nbconvert_exporter": "python",
   "pygments_lexer": "ipython3",
   "version": "3.7.1"
  }
 },
 "nbformat": 4,
 "nbformat_minor": 2
}
